{
 "cells": [
  {
   "cell_type": "markdown",
   "id": "f22db928",
   "metadata": {},
   "source": [
    "# Setup"
   ]
  },
  {
   "cell_type": "code",
   "execution_count": 22,
   "id": "641f9842",
   "metadata": {},
   "outputs": [],
   "source": [
    "library(ggplot2)"
   ]
  },
  {
   "cell_type": "markdown",
   "id": "4242f5b0",
   "metadata": {},
   "source": [
    "# Section 1: Read CSV and Create Scatterplot"
   ]
  },
  {
   "cell_type": "code",
   "execution_count": 26,
   "id": "9e5879ea",
   "metadata": {},
   "outputs": [],
   "source": [
    "data <- read.csv(\"data.csv\")"
   ]
  },
  {
   "cell_type": "code",
   "execution_count": 27,
   "id": "103bb7ea",
   "metadata": {},
   "outputs": [],
   "source": [
    "ggplot(data, aes(x = X, y = Y)) +\n",
    "  geom_point() +\n",
    "  ggtitle(\"Initial Data with Outliers\") +\n",
    "  theme_minimal(base_rect = element_rect(fill = \"white\", colour = NA)) -> p1"
   ]
  },
  {
   "cell_type": "code",
   "execution_count": null,
   "id": "9d5e498c",
   "metadata": {},
   "outputs": [],
   "source": [
    "p1"
   ]
  },
  {
   "cell_type": "markdown",
   "id": "c6b8e10d",
   "metadata": {},
   "source": [
    "ggsave(\"example-S2.png\", plot = p1, bg = \"white\")"
   ]
  },
  {
   "cell_type": "markdown",
   "id": "8a3bbec6",
   "metadata": {},
   "source": [
    "# Section 2: Remove Outliers and Create Scatterplot"
   ]
  },
  {
   "cell_type": "code",
   "execution_count": 31,
   "id": "8d1d01f4",
   "metadata": {},
   "outputs": [],
   "source": [
    "#cutoff <- quantile(data$Y[data$Y > 0], 0.996) # Adjusting the percentile\n",
    "cutoff <- 2000\n",
    "outliers <- data$Y == 0 | data$Y > cutoff"
   ]
  },
  {
   "cell_type": "code",
   "execution_count": 32,
   "id": "88eee0a2",
   "metadata": {},
   "outputs": [],
   "source": [
    "clean_data <- data[!outliers, ]\n",
    "outlier_data <- data[outliers, ]"
   ]
  },
  {
   "cell_type": "code",
   "execution_count": 33,
   "id": "c283bc87",
   "metadata": {},
   "outputs": [],
   "source": [
    "ggplot(clean_data, aes(x = X, y = Y)) +\n",
    "  geom_point() +\n",
    "  geom_point(data = outlier_data, aes(x = X, y = Y), color = \"red\", shape = 4) +\n",
    "  geom_hline(yintercept = cutoff, linetype = \"dotted\") +\n",
    "  annotate(\"text\", x = min(clean_data$X), y = cutoff + 10, label = paste(\"Cutoff:\", round(cutoff, 2)), hjust = 0) +\n",
    "  ggtitle(\"Data with Outliers Highlighted and Removed\") +\n",
    "  theme_minimal(base_rect = element_rect(fill = \"white\", colour = NA)) -> p2"
   ]
  },
  {
   "cell_type": "code",
   "execution_count": null,
   "id": "64fdb045",
   "metadata": {},
   "outputs": [],
   "source": [
    "p2"
   ]
  },
  {
   "cell_type": "code",
   "execution_count": null,
   "id": "6772eb4d",
   "metadata": {},
   "outputs": [],
   "source": [
    "ggsave(\"example-S3.png\", plot = p2, bg = \"white\")"
   ]
  },
  {
   "cell_type": "markdown",
   "id": "f622d931",
   "metadata": {},
   "source": [
    "# Section 3: Fit Linear Model, Plot, and Save Model Summary"
   ]
  },
  {
   "cell_type": "code",
   "execution_count": 35,
   "id": "e33a6cca",
   "metadata": {},
   "outputs": [],
   "source": [
    "model <- lm(Y ~ X, data = clean_data)\n",
    "model_summary <- capture.output(summary(model))\n",
    "writeLines(model_summary, \"results-S4.txt\")"
   ]
  },
  {
   "cell_type": "code",
   "execution_count": 36,
   "id": "f5f7c1af",
   "metadata": {},
   "outputs": [],
   "source": [
    "ggplot(clean_data, aes(x = X, y = Y)) +\n",
    "  geom_point() +\n",
    "  geom_smooth(method = \"lm\", se = FALSE, color = \"blue\") +\n",
    "  annotate(\"text\", x = Inf, y = Inf, label = paste(\"Fit: Y =\", round(coef(model)[1], 2), \"+\", round(coef(model)[2], 2), \"*X\"), hjust = 1.1, vjust = 1.1) +\n",
    "  ggtitle(\"Linear Model Fit to Cleaned Data\") +\n",
    "  theme_minimal(base_rect = element_rect(fill = \"white\", colour = NA)) -> p3"
   ]
  },
  {
   "cell_type": "code",
   "execution_count": null,
   "id": "61674373",
   "metadata": {},
   "outputs": [],
   "source": [
    "p3"
   ]
  },
  {
   "cell_type": "code",
   "execution_count": null,
   "id": "81a6195c",
   "metadata": {},
   "outputs": [],
   "source": [
    "ggsave(\"example-S4.png\", plot = p3, bg = \"white\")"
   ]
  },
  {
   "cell_type": "code",
   "execution_count": null,
   "id": "93201c4f",
   "metadata": {},
   "outputs": [],
   "source": []
  }
 ],
 "metadata": {
  "kernelspec": {
   "display_name": "R",
   "language": "R",
   "name": "ir"
  },
  "language_info": {
   "codemirror_mode": "r",
   "file_extension": ".r",
   "mimetype": "text/x-r-source",
   "name": "R",
   "pygments_lexer": "r",
   "version": "4.3.3"
  }
 },
 "nbformat": 4,
 "nbformat_minor": 5
}
